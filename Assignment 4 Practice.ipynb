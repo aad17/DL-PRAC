{
 "cells": [
  {
   "cell_type": "markdown",
   "metadata": {},
   "source": [
    "# Autoencoders"
   ]
  },
  {
   "cell_type": "markdown",
   "metadata": {},
   "source": [
    "### Import the libraries"
   ]
  },
  {
   "cell_type": "code",
   "execution_count": 1,
   "metadata": {},
   "outputs": [],
   "source": [
    "import numpy as np\n",
    "import pandas as pd\n",
    "import tensorflow as tf\n",
    "import matplotlib.pyplot as plt"
   ]
  },
  {
   "cell_type": "markdown",
   "metadata": {},
   "source": [
    "### Data Aquisition"
   ]
  },
  {
   "cell_type": "code",
   "execution_count": 2,
   "metadata": {},
   "outputs": [],
   "source": [
    "data = 'http://storage.googleapis.com/download.tensorflow.org/data/ecg.csv'"
   ]
  },
  {
   "cell_type": "code",
   "execution_count": 3,
   "metadata": {},
   "outputs": [],
   "source": [
    "df = pd.read_csv(data, header=None)"
   ]
  },
  {
   "cell_type": "code",
   "execution_count": 4,
   "metadata": {},
   "outputs": [
    {
     "data": {
      "text/html": [
       "<div>\n",
       "<style scoped>\n",
       "    .dataframe tbody tr th:only-of-type {\n",
       "        vertical-align: middle;\n",
       "    }\n",
       "\n",
       "    .dataframe tbody tr th {\n",
       "        vertical-align: top;\n",
       "    }\n",
       "\n",
       "    .dataframe thead th {\n",
       "        text-align: right;\n",
       "    }\n",
       "</style>\n",
       "<table border=\"1\" class=\"dataframe\">\n",
       "  <thead>\n",
       "    <tr style=\"text-align: right;\">\n",
       "      <th></th>\n",
       "      <th>0</th>\n",
       "      <th>1</th>\n",
       "      <th>2</th>\n",
       "      <th>3</th>\n",
       "      <th>4</th>\n",
       "      <th>5</th>\n",
       "      <th>6</th>\n",
       "      <th>7</th>\n",
       "      <th>8</th>\n",
       "      <th>9</th>\n",
       "      <th>...</th>\n",
       "      <th>131</th>\n",
       "      <th>132</th>\n",
       "      <th>133</th>\n",
       "      <th>134</th>\n",
       "      <th>135</th>\n",
       "      <th>136</th>\n",
       "      <th>137</th>\n",
       "      <th>138</th>\n",
       "      <th>139</th>\n",
       "      <th>140</th>\n",
       "    </tr>\n",
       "  </thead>\n",
       "  <tbody>\n",
       "    <tr>\n",
       "      <th>0</th>\n",
       "      <td>-0.112522</td>\n",
       "      <td>-2.827204</td>\n",
       "      <td>-3.773897</td>\n",
       "      <td>-4.349751</td>\n",
       "      <td>-4.376041</td>\n",
       "      <td>-3.474986</td>\n",
       "      <td>-2.181408</td>\n",
       "      <td>-1.818287</td>\n",
       "      <td>-1.250522</td>\n",
       "      <td>-0.477492</td>\n",
       "      <td>...</td>\n",
       "      <td>0.792168</td>\n",
       "      <td>0.933541</td>\n",
       "      <td>0.796958</td>\n",
       "      <td>0.578621</td>\n",
       "      <td>0.257740</td>\n",
       "      <td>0.228077</td>\n",
       "      <td>0.123431</td>\n",
       "      <td>0.925286</td>\n",
       "      <td>0.193137</td>\n",
       "      <td>1.0</td>\n",
       "    </tr>\n",
       "    <tr>\n",
       "      <th>1</th>\n",
       "      <td>-1.100878</td>\n",
       "      <td>-3.996840</td>\n",
       "      <td>-4.285843</td>\n",
       "      <td>-4.506579</td>\n",
       "      <td>-4.022377</td>\n",
       "      <td>-3.234368</td>\n",
       "      <td>-1.566126</td>\n",
       "      <td>-0.992258</td>\n",
       "      <td>-0.754680</td>\n",
       "      <td>0.042321</td>\n",
       "      <td>...</td>\n",
       "      <td>0.538356</td>\n",
       "      <td>0.656881</td>\n",
       "      <td>0.787490</td>\n",
       "      <td>0.724046</td>\n",
       "      <td>0.555784</td>\n",
       "      <td>0.476333</td>\n",
       "      <td>0.773820</td>\n",
       "      <td>1.119621</td>\n",
       "      <td>-1.436250</td>\n",
       "      <td>1.0</td>\n",
       "    </tr>\n",
       "    <tr>\n",
       "      <th>2</th>\n",
       "      <td>-0.567088</td>\n",
       "      <td>-2.593450</td>\n",
       "      <td>-3.874230</td>\n",
       "      <td>-4.584095</td>\n",
       "      <td>-4.187449</td>\n",
       "      <td>-3.151462</td>\n",
       "      <td>-1.742940</td>\n",
       "      <td>-1.490658</td>\n",
       "      <td>-1.183580</td>\n",
       "      <td>-0.394229</td>\n",
       "      <td>...</td>\n",
       "      <td>0.886073</td>\n",
       "      <td>0.531452</td>\n",
       "      <td>0.311377</td>\n",
       "      <td>-0.021919</td>\n",
       "      <td>-0.713683</td>\n",
       "      <td>-0.532197</td>\n",
       "      <td>0.321097</td>\n",
       "      <td>0.904227</td>\n",
       "      <td>-0.421797</td>\n",
       "      <td>1.0</td>\n",
       "    </tr>\n",
       "    <tr>\n",
       "      <th>3</th>\n",
       "      <td>0.490473</td>\n",
       "      <td>-1.914407</td>\n",
       "      <td>-3.616364</td>\n",
       "      <td>-4.318823</td>\n",
       "      <td>-4.268016</td>\n",
       "      <td>-3.881110</td>\n",
       "      <td>-2.993280</td>\n",
       "      <td>-1.671131</td>\n",
       "      <td>-1.333884</td>\n",
       "      <td>-0.965629</td>\n",
       "      <td>...</td>\n",
       "      <td>0.350816</td>\n",
       "      <td>0.499111</td>\n",
       "      <td>0.600345</td>\n",
       "      <td>0.842069</td>\n",
       "      <td>0.952074</td>\n",
       "      <td>0.990133</td>\n",
       "      <td>1.086798</td>\n",
       "      <td>1.403011</td>\n",
       "      <td>-0.383564</td>\n",
       "      <td>1.0</td>\n",
       "    </tr>\n",
       "    <tr>\n",
       "      <th>4</th>\n",
       "      <td>0.800232</td>\n",
       "      <td>-0.874252</td>\n",
       "      <td>-2.384761</td>\n",
       "      <td>-3.973292</td>\n",
       "      <td>-4.338224</td>\n",
       "      <td>-3.802422</td>\n",
       "      <td>-2.534510</td>\n",
       "      <td>-1.783423</td>\n",
       "      <td>-1.594450</td>\n",
       "      <td>-0.753199</td>\n",
       "      <td>...</td>\n",
       "      <td>1.148884</td>\n",
       "      <td>0.958434</td>\n",
       "      <td>1.059025</td>\n",
       "      <td>1.371682</td>\n",
       "      <td>1.277392</td>\n",
       "      <td>0.960304</td>\n",
       "      <td>0.971020</td>\n",
       "      <td>1.614392</td>\n",
       "      <td>1.421456</td>\n",
       "      <td>1.0</td>\n",
       "    </tr>\n",
       "  </tbody>\n",
       "</table>\n",
       "<p>5 rows × 141 columns</p>\n",
       "</div>"
      ],
      "text/plain": [
       "        0         1         2         3         4         5         6    \\\n",
       "0 -0.112522 -2.827204 -3.773897 -4.349751 -4.376041 -3.474986 -2.181408   \n",
       "1 -1.100878 -3.996840 -4.285843 -4.506579 -4.022377 -3.234368 -1.566126   \n",
       "2 -0.567088 -2.593450 -3.874230 -4.584095 -4.187449 -3.151462 -1.742940   \n",
       "3  0.490473 -1.914407 -3.616364 -4.318823 -4.268016 -3.881110 -2.993280   \n",
       "4  0.800232 -0.874252 -2.384761 -3.973292 -4.338224 -3.802422 -2.534510   \n",
       "\n",
       "        7         8         9    ...       131       132       133       134  \\\n",
       "0 -1.818287 -1.250522 -0.477492  ...  0.792168  0.933541  0.796958  0.578621   \n",
       "1 -0.992258 -0.754680  0.042321  ...  0.538356  0.656881  0.787490  0.724046   \n",
       "2 -1.490658 -1.183580 -0.394229  ...  0.886073  0.531452  0.311377 -0.021919   \n",
       "3 -1.671131 -1.333884 -0.965629  ...  0.350816  0.499111  0.600345  0.842069   \n",
       "4 -1.783423 -1.594450 -0.753199  ...  1.148884  0.958434  1.059025  1.371682   \n",
       "\n",
       "        135       136       137       138       139  140  \n",
       "0  0.257740  0.228077  0.123431  0.925286  0.193137  1.0  \n",
       "1  0.555784  0.476333  0.773820  1.119621 -1.436250  1.0  \n",
       "2 -0.713683 -0.532197  0.321097  0.904227 -0.421797  1.0  \n",
       "3  0.952074  0.990133  1.086798  1.403011 -0.383564  1.0  \n",
       "4  1.277392  0.960304  0.971020  1.614392  1.421456  1.0  \n",
       "\n",
       "[5 rows x 141 columns]"
      ]
     },
     "execution_count": 4,
     "metadata": {},
     "output_type": "execute_result"
    }
   ],
   "source": [
    "df.head()"
   ]
  },
  {
   "cell_type": "code",
   "execution_count": 5,
   "metadata": {},
   "outputs": [
    {
     "data": {
      "text/plain": [
       "(4998, 141)"
      ]
     },
     "execution_count": 5,
     "metadata": {},
     "output_type": "execute_result"
    }
   ],
   "source": [
    "df.shape"
   ]
  },
  {
   "cell_type": "markdown",
   "metadata": {},
   "source": [
    "## Data Preprocessing"
   ]
  },
  {
   "cell_type": "markdown",
   "metadata": {},
   "source": [
    "### Remove the last column of the dataframe which is the target"
   ]
  },
  {
   "cell_type": "code",
   "execution_count": 6,
   "metadata": {},
   "outputs": [],
   "source": [
    "X = df.drop(140, axis=1)"
   ]
  },
  {
   "cell_type": "code",
   "execution_count": 7,
   "metadata": {},
   "outputs": [],
   "source": [
    "y = df[140]"
   ]
  },
  {
   "cell_type": "code",
   "execution_count": 8,
   "metadata": {},
   "outputs": [
    {
     "data": {
      "text/html": [
       "<div>\n",
       "<style scoped>\n",
       "    .dataframe tbody tr th:only-of-type {\n",
       "        vertical-align: middle;\n",
       "    }\n",
       "\n",
       "    .dataframe tbody tr th {\n",
       "        vertical-align: top;\n",
       "    }\n",
       "\n",
       "    .dataframe thead th {\n",
       "        text-align: right;\n",
       "    }\n",
       "</style>\n",
       "<table border=\"1\" class=\"dataframe\">\n",
       "  <thead>\n",
       "    <tr style=\"text-align: right;\">\n",
       "      <th></th>\n",
       "      <th>0</th>\n",
       "      <th>1</th>\n",
       "      <th>2</th>\n",
       "      <th>3</th>\n",
       "      <th>4</th>\n",
       "      <th>5</th>\n",
       "      <th>6</th>\n",
       "      <th>7</th>\n",
       "      <th>8</th>\n",
       "      <th>9</th>\n",
       "      <th>...</th>\n",
       "      <th>130</th>\n",
       "      <th>131</th>\n",
       "      <th>132</th>\n",
       "      <th>133</th>\n",
       "      <th>134</th>\n",
       "      <th>135</th>\n",
       "      <th>136</th>\n",
       "      <th>137</th>\n",
       "      <th>138</th>\n",
       "      <th>139</th>\n",
       "    </tr>\n",
       "  </thead>\n",
       "  <tbody>\n",
       "    <tr>\n",
       "      <th>0</th>\n",
       "      <td>-0.112522</td>\n",
       "      <td>-2.827204</td>\n",
       "      <td>-3.773897</td>\n",
       "      <td>-4.349751</td>\n",
       "      <td>-4.376041</td>\n",
       "      <td>-3.474986</td>\n",
       "      <td>-2.181408</td>\n",
       "      <td>-1.818287</td>\n",
       "      <td>-1.250522</td>\n",
       "      <td>-0.477492</td>\n",
       "      <td>...</td>\n",
       "      <td>0.160348</td>\n",
       "      <td>0.792168</td>\n",
       "      <td>0.933541</td>\n",
       "      <td>0.796958</td>\n",
       "      <td>0.578621</td>\n",
       "      <td>0.257740</td>\n",
       "      <td>0.228077</td>\n",
       "      <td>0.123431</td>\n",
       "      <td>0.925286</td>\n",
       "      <td>0.193137</td>\n",
       "    </tr>\n",
       "    <tr>\n",
       "      <th>1</th>\n",
       "      <td>-1.100878</td>\n",
       "      <td>-3.996840</td>\n",
       "      <td>-4.285843</td>\n",
       "      <td>-4.506579</td>\n",
       "      <td>-4.022377</td>\n",
       "      <td>-3.234368</td>\n",
       "      <td>-1.566126</td>\n",
       "      <td>-0.992258</td>\n",
       "      <td>-0.754680</td>\n",
       "      <td>0.042321</td>\n",
       "      <td>...</td>\n",
       "      <td>0.560327</td>\n",
       "      <td>0.538356</td>\n",
       "      <td>0.656881</td>\n",
       "      <td>0.787490</td>\n",
       "      <td>0.724046</td>\n",
       "      <td>0.555784</td>\n",
       "      <td>0.476333</td>\n",
       "      <td>0.773820</td>\n",
       "      <td>1.119621</td>\n",
       "      <td>-1.436250</td>\n",
       "    </tr>\n",
       "    <tr>\n",
       "      <th>2</th>\n",
       "      <td>-0.567088</td>\n",
       "      <td>-2.593450</td>\n",
       "      <td>-3.874230</td>\n",
       "      <td>-4.584095</td>\n",
       "      <td>-4.187449</td>\n",
       "      <td>-3.151462</td>\n",
       "      <td>-1.742940</td>\n",
       "      <td>-1.490658</td>\n",
       "      <td>-1.183580</td>\n",
       "      <td>-0.394229</td>\n",
       "      <td>...</td>\n",
       "      <td>1.284825</td>\n",
       "      <td>0.886073</td>\n",
       "      <td>0.531452</td>\n",
       "      <td>0.311377</td>\n",
       "      <td>-0.021919</td>\n",
       "      <td>-0.713683</td>\n",
       "      <td>-0.532197</td>\n",
       "      <td>0.321097</td>\n",
       "      <td>0.904227</td>\n",
       "      <td>-0.421797</td>\n",
       "    </tr>\n",
       "    <tr>\n",
       "      <th>3</th>\n",
       "      <td>0.490473</td>\n",
       "      <td>-1.914407</td>\n",
       "      <td>-3.616364</td>\n",
       "      <td>-4.318823</td>\n",
       "      <td>-4.268016</td>\n",
       "      <td>-3.881110</td>\n",
       "      <td>-2.993280</td>\n",
       "      <td>-1.671131</td>\n",
       "      <td>-1.333884</td>\n",
       "      <td>-0.965629</td>\n",
       "      <td>...</td>\n",
       "      <td>0.491173</td>\n",
       "      <td>0.350816</td>\n",
       "      <td>0.499111</td>\n",
       "      <td>0.600345</td>\n",
       "      <td>0.842069</td>\n",
       "      <td>0.952074</td>\n",
       "      <td>0.990133</td>\n",
       "      <td>1.086798</td>\n",
       "      <td>1.403011</td>\n",
       "      <td>-0.383564</td>\n",
       "    </tr>\n",
       "    <tr>\n",
       "      <th>4</th>\n",
       "      <td>0.800232</td>\n",
       "      <td>-0.874252</td>\n",
       "      <td>-2.384761</td>\n",
       "      <td>-3.973292</td>\n",
       "      <td>-4.338224</td>\n",
       "      <td>-3.802422</td>\n",
       "      <td>-2.534510</td>\n",
       "      <td>-1.783423</td>\n",
       "      <td>-1.594450</td>\n",
       "      <td>-0.753199</td>\n",
       "      <td>...</td>\n",
       "      <td>0.966606</td>\n",
       "      <td>1.148884</td>\n",
       "      <td>0.958434</td>\n",
       "      <td>1.059025</td>\n",
       "      <td>1.371682</td>\n",
       "      <td>1.277392</td>\n",
       "      <td>0.960304</td>\n",
       "      <td>0.971020</td>\n",
       "      <td>1.614392</td>\n",
       "      <td>1.421456</td>\n",
       "    </tr>\n",
       "  </tbody>\n",
       "</table>\n",
       "<p>5 rows × 140 columns</p>\n",
       "</div>"
      ],
      "text/plain": [
       "        0         1         2         3         4         5         6    \\\n",
       "0 -0.112522 -2.827204 -3.773897 -4.349751 -4.376041 -3.474986 -2.181408   \n",
       "1 -1.100878 -3.996840 -4.285843 -4.506579 -4.022377 -3.234368 -1.566126   \n",
       "2 -0.567088 -2.593450 -3.874230 -4.584095 -4.187449 -3.151462 -1.742940   \n",
       "3  0.490473 -1.914407 -3.616364 -4.318823 -4.268016 -3.881110 -2.993280   \n",
       "4  0.800232 -0.874252 -2.384761 -3.973292 -4.338224 -3.802422 -2.534510   \n",
       "\n",
       "        7         8         9    ...       130       131       132       133  \\\n",
       "0 -1.818287 -1.250522 -0.477492  ...  0.160348  0.792168  0.933541  0.796958   \n",
       "1 -0.992258 -0.754680  0.042321  ...  0.560327  0.538356  0.656881  0.787490   \n",
       "2 -1.490658 -1.183580 -0.394229  ...  1.284825  0.886073  0.531452  0.311377   \n",
       "3 -1.671131 -1.333884 -0.965629  ...  0.491173  0.350816  0.499111  0.600345   \n",
       "4 -1.783423 -1.594450 -0.753199  ...  0.966606  1.148884  0.958434  1.059025   \n",
       "\n",
       "        134       135       136       137       138       139  \n",
       "0  0.578621  0.257740  0.228077  0.123431  0.925286  0.193137  \n",
       "1  0.724046  0.555784  0.476333  0.773820  1.119621 -1.436250  \n",
       "2 -0.021919 -0.713683 -0.532197  0.321097  0.904227 -0.421797  \n",
       "3  0.842069  0.952074  0.990133  1.086798  1.403011 -0.383564  \n",
       "4  1.371682  1.277392  0.960304  0.971020  1.614392  1.421456  \n",
       "\n",
       "[5 rows x 140 columns]"
      ]
     },
     "execution_count": 8,
     "metadata": {},
     "output_type": "execute_result"
    }
   ],
   "source": [
    "X.head()"
   ]
  },
  {
   "cell_type": "code",
   "execution_count": 9,
   "metadata": {},
   "outputs": [
    {
     "data": {
      "text/plain": [
       "0    1.0\n",
       "1    1.0\n",
       "2    1.0\n",
       "3    1.0\n",
       "4    1.0\n",
       "Name: 140, dtype: float64"
      ]
     },
     "execution_count": 9,
     "metadata": {},
     "output_type": "execute_result"
    }
   ],
   "source": [
    "y.head()"
   ]
  },
  {
   "cell_type": "markdown",
   "metadata": {},
   "source": [
    "### Split data into testing and training sets"
   ]
  },
  {
   "cell_type": "code",
   "execution_count": 10,
   "metadata": {},
   "outputs": [],
   "source": [
    "from sklearn.model_selection import train_test_split"
   ]
  },
  {
   "cell_type": "code",
   "execution_count": 11,
   "metadata": {},
   "outputs": [],
   "source": [
    "X_train, X_test, y_train, y_test = train_test_split(X, y, test_size=0.2)"
   ]
  },
  {
   "cell_type": "code",
   "execution_count": 12,
   "metadata": {},
   "outputs": [],
   "source": [
    "train_index = y_train[y_train == 1].index"
   ]
  },
  {
   "cell_type": "code",
   "execution_count": 13,
   "metadata": {},
   "outputs": [],
   "source": [
    "train_data = X_train.loc[train_index]"
   ]
  },
  {
   "cell_type": "code",
   "execution_count": 14,
   "metadata": {
    "scrolled": true
   },
   "outputs": [
    {
     "data": {
      "text/html": [
       "<div>\n",
       "<style scoped>\n",
       "    .dataframe tbody tr th:only-of-type {\n",
       "        vertical-align: middle;\n",
       "    }\n",
       "\n",
       "    .dataframe tbody tr th {\n",
       "        vertical-align: top;\n",
       "    }\n",
       "\n",
       "    .dataframe thead th {\n",
       "        text-align: right;\n",
       "    }\n",
       "</style>\n",
       "<table border=\"1\" class=\"dataframe\">\n",
       "  <thead>\n",
       "    <tr style=\"text-align: right;\">\n",
       "      <th></th>\n",
       "      <th>0</th>\n",
       "      <th>1</th>\n",
       "      <th>2</th>\n",
       "      <th>3</th>\n",
       "      <th>4</th>\n",
       "      <th>5</th>\n",
       "      <th>6</th>\n",
       "      <th>7</th>\n",
       "      <th>8</th>\n",
       "      <th>9</th>\n",
       "      <th>...</th>\n",
       "      <th>130</th>\n",
       "      <th>131</th>\n",
       "      <th>132</th>\n",
       "      <th>133</th>\n",
       "      <th>134</th>\n",
       "      <th>135</th>\n",
       "      <th>136</th>\n",
       "      <th>137</th>\n",
       "      <th>138</th>\n",
       "      <th>139</th>\n",
       "    </tr>\n",
       "  </thead>\n",
       "  <tbody>\n",
       "    <tr>\n",
       "      <th>1812</th>\n",
       "      <td>-0.544707</td>\n",
       "      <td>-2.718413</td>\n",
       "      <td>-3.694501</td>\n",
       "      <td>-4.469415</td>\n",
       "      <td>-4.099968</td>\n",
       "      <td>-3.553914</td>\n",
       "      <td>-2.364821</td>\n",
       "      <td>-1.540491</td>\n",
       "      <td>-1.360389</td>\n",
       "      <td>-0.915743</td>\n",
       "      <td>...</td>\n",
       "      <td>0.995894</td>\n",
       "      <td>1.039285</td>\n",
       "      <td>0.968414</td>\n",
       "      <td>0.934525</td>\n",
       "      <td>0.915821</td>\n",
       "      <td>0.974250</td>\n",
       "      <td>1.330332</td>\n",
       "      <td>1.392033</td>\n",
       "      <td>0.812976</td>\n",
       "      <td>-1.238990</td>\n",
       "    </tr>\n",
       "    <tr>\n",
       "      <th>1169</th>\n",
       "      <td>-1.690098</td>\n",
       "      <td>-3.327908</td>\n",
       "      <td>-3.780237</td>\n",
       "      <td>-4.723238</td>\n",
       "      <td>-4.490969</td>\n",
       "      <td>-3.441501</td>\n",
       "      <td>-1.852904</td>\n",
       "      <td>-1.253405</td>\n",
       "      <td>-0.680921</td>\n",
       "      <td>0.154727</td>\n",
       "      <td>...</td>\n",
       "      <td>0.679656</td>\n",
       "      <td>1.803930</td>\n",
       "      <td>2.299171</td>\n",
       "      <td>2.613399</td>\n",
       "      <td>2.815431</td>\n",
       "      <td>2.100823</td>\n",
       "      <td>0.606403</td>\n",
       "      <td>-1.034268</td>\n",
       "      <td>-1.472465</td>\n",
       "      <td>-1.921490</td>\n",
       "    </tr>\n",
       "    <tr>\n",
       "      <th>727</th>\n",
       "      <td>0.514812</td>\n",
       "      <td>-0.943819</td>\n",
       "      <td>-2.726276</td>\n",
       "      <td>-3.697543</td>\n",
       "      <td>-3.594244</td>\n",
       "      <td>-2.955086</td>\n",
       "      <td>-1.333834</td>\n",
       "      <td>-0.278983</td>\n",
       "      <td>-0.309078</td>\n",
       "      <td>0.411023</td>\n",
       "      <td>...</td>\n",
       "      <td>0.143624</td>\n",
       "      <td>0.654506</td>\n",
       "      <td>0.345206</td>\n",
       "      <td>-0.131598</td>\n",
       "      <td>-0.787399</td>\n",
       "      <td>-1.775000</td>\n",
       "      <td>-2.611670</td>\n",
       "      <td>-3.299898</td>\n",
       "      <td>-2.566351</td>\n",
       "      <td>-3.058445</td>\n",
       "    </tr>\n",
       "    <tr>\n",
       "      <th>189</th>\n",
       "      <td>-1.752227</td>\n",
       "      <td>-3.048471</td>\n",
       "      <td>-3.298518</td>\n",
       "      <td>-3.957783</td>\n",
       "      <td>-4.001944</td>\n",
       "      <td>-3.662148</td>\n",
       "      <td>-2.718075</td>\n",
       "      <td>-1.817975</td>\n",
       "      <td>-1.334923</td>\n",
       "      <td>-0.954247</td>\n",
       "      <td>...</td>\n",
       "      <td>1.763348</td>\n",
       "      <td>1.547471</td>\n",
       "      <td>1.246141</td>\n",
       "      <td>0.805574</td>\n",
       "      <td>0.304868</td>\n",
       "      <td>-0.406971</td>\n",
       "      <td>-0.771673</td>\n",
       "      <td>-1.116807</td>\n",
       "      <td>-0.711234</td>\n",
       "      <td>-0.722253</td>\n",
       "    </tr>\n",
       "    <tr>\n",
       "      <th>1839</th>\n",
       "      <td>-0.289117</td>\n",
       "      <td>-2.902968</td>\n",
       "      <td>-3.863490</td>\n",
       "      <td>-4.354358</td>\n",
       "      <td>-3.805222</td>\n",
       "      <td>-2.597311</td>\n",
       "      <td>-1.965614</td>\n",
       "      <td>-1.611443</td>\n",
       "      <td>-0.825002</td>\n",
       "      <td>-0.295307</td>\n",
       "      <td>...</td>\n",
       "      <td>1.174893</td>\n",
       "      <td>1.290417</td>\n",
       "      <td>1.119727</td>\n",
       "      <td>0.851160</td>\n",
       "      <td>0.522584</td>\n",
       "      <td>0.277179</td>\n",
       "      <td>0.516915</td>\n",
       "      <td>1.124296</td>\n",
       "      <td>0.835680</td>\n",
       "      <td>-1.758655</td>\n",
       "    </tr>\n",
       "  </tbody>\n",
       "</table>\n",
       "<p>5 rows × 140 columns</p>\n",
       "</div>"
      ],
      "text/plain": [
       "           0         1         2         3         4         5         6    \\\n",
       "1812 -0.544707 -2.718413 -3.694501 -4.469415 -4.099968 -3.553914 -2.364821   \n",
       "1169 -1.690098 -3.327908 -3.780237 -4.723238 -4.490969 -3.441501 -1.852904   \n",
       "727   0.514812 -0.943819 -2.726276 -3.697543 -3.594244 -2.955086 -1.333834   \n",
       "189  -1.752227 -3.048471 -3.298518 -3.957783 -4.001944 -3.662148 -2.718075   \n",
       "1839 -0.289117 -2.902968 -3.863490 -4.354358 -3.805222 -2.597311 -1.965614   \n",
       "\n",
       "           7         8         9    ...       130       131       132  \\\n",
       "1812 -1.540491 -1.360389 -0.915743  ...  0.995894  1.039285  0.968414   \n",
       "1169 -1.253405 -0.680921  0.154727  ...  0.679656  1.803930  2.299171   \n",
       "727  -0.278983 -0.309078  0.411023  ...  0.143624  0.654506  0.345206   \n",
       "189  -1.817975 -1.334923 -0.954247  ...  1.763348  1.547471  1.246141   \n",
       "1839 -1.611443 -0.825002 -0.295307  ...  1.174893  1.290417  1.119727   \n",
       "\n",
       "           133       134       135       136       137       138       139  \n",
       "1812  0.934525  0.915821  0.974250  1.330332  1.392033  0.812976 -1.238990  \n",
       "1169  2.613399  2.815431  2.100823  0.606403 -1.034268 -1.472465 -1.921490  \n",
       "727  -0.131598 -0.787399 -1.775000 -2.611670 -3.299898 -2.566351 -3.058445  \n",
       "189   0.805574  0.304868 -0.406971 -0.771673 -1.116807 -0.711234 -0.722253  \n",
       "1839  0.851160  0.522584  0.277179  0.516915  1.124296  0.835680 -1.758655  \n",
       "\n",
       "[5 rows x 140 columns]"
      ]
     },
     "execution_count": 14,
     "metadata": {},
     "output_type": "execute_result"
    }
   ],
   "source": [
    "train_data.head()"
   ]
  },
  {
   "cell_type": "markdown",
   "metadata": {},
   "source": [
    "### Scale the values in between 0 and 1"
   ]
  },
  {
   "cell_type": "code",
   "execution_count": 15,
   "metadata": {},
   "outputs": [],
   "source": [
    "from sklearn.preprocessing import MinMaxScaler\n",
    "scaler = MinMaxScaler(feature_range=(0, 1))"
   ]
  },
  {
   "cell_type": "code",
   "execution_count": 16,
   "metadata": {},
   "outputs": [],
   "source": [
    "X_train_scaled = scaler.fit_transform(train_data.copy())"
   ]
  },
  {
   "cell_type": "code",
   "execution_count": 17,
   "metadata": {},
   "outputs": [],
   "source": [
    "X_test_scaled = scaler.fit_transform(X_test.copy())"
   ]
  },
  {
   "cell_type": "markdown",
   "metadata": {},
   "source": [
    "## Create autoencoder model"
   ]
  },
  {
   "cell_type": "markdown",
   "metadata": {},
   "source": [
    "### Import functions"
   ]
  },
  {
   "cell_type": "code",
   "execution_count": 18,
   "metadata": {},
   "outputs": [],
   "source": [
    "from tensorflow.keras import Model, Sequential\n",
    "from tensorflow.keras.optimizers import Adam\n",
    "from tensorflow.keras.layers import Dense, Dropout\n",
    "from tensorflow.keras.losses import MeanSquaredLogarithmicError"
   ]
  },
  {
   "cell_type": "markdown",
   "metadata": {},
   "source": [
    "### Create an autoencoder model"
   ]
  },
  {
   "cell_type": "code",
   "execution_count": 19,
   "metadata": {},
   "outputs": [],
   "source": [
    "class Autoencoder(Model):\n",
    "    def __init__(self, output_units, code_size=8):\n",
    "        super().__init__()\n",
    "        self.encoder = Sequential([\n",
    "            Dense(64, activation='relu'),\n",
    "            Dropout(0.1),\n",
    "            Dense(32, activation='relu'),\n",
    "            Dropout(0.1),\n",
    "            Dense(16, activation='relu'),\n",
    "            Dropout(0.1),\n",
    "            Dense(code_size, activation='relu')\n",
    "        ])\n",
    "        self.decoder = Sequential([\n",
    "            Dense(16, activation='relu'),\n",
    "            Dropout(0.1),\n",
    "            Dense(32, activation='relu'),\n",
    "            Dropout(0.1),\n",
    "            Dense(64, activation='relu'),\n",
    "            Dropout(0.1),\n",
    "            Dense(output_units, activation='sigmoid')\n",
    "        ])\n",
    "    \n",
    "    def call(self, inputs):\n",
    "        encoded = self.encoder(inputs)\n",
    "        decoded = self.decoder(encoded)\n",
    "        return decoded"
   ]
  },
  {
   "cell_type": "code",
   "execution_count": 20,
   "metadata": {},
   "outputs": [
    {
     "data": {
      "text/plain": [
       "(2338, 140)"
      ]
     },
     "execution_count": 20,
     "metadata": {},
     "output_type": "execute_result"
    }
   ],
   "source": [
    "X_train_scaled.shape"
   ]
  },
  {
   "cell_type": "markdown",
   "metadata": {},
   "source": [
    "### Initialise Model"
   ]
  },
  {
   "cell_type": "code",
   "execution_count": 21,
   "metadata": {},
   "outputs": [],
   "source": [
    "model = Autoencoder(output_units = X_train_scaled.shape[1])"
   ]
  },
  {
   "cell_type": "markdown",
   "metadata": {},
   "source": [
    "### Compile Model"
   ]
  },
  {
   "cell_type": "code",
   "execution_count": 26,
   "metadata": {},
   "outputs": [],
   "source": [
    "model.compile(loss='msle', metrics=['mse', 'accuracy'], optimizer='adam')"
   ]
  },
  {
   "cell_type": "markdown",
   "metadata": {},
   "source": [
    "### Fit the data to the model"
   ]
  },
  {
   "cell_type": "code",
   "execution_count": 27,
   "metadata": {},
   "outputs": [
    {
     "name": "stdout",
     "output_type": "stream",
     "text": [
      "Epoch 1/20\n",
      "5/5 [==============================] - 1s 39ms/step - loss: 0.0044 - mse: 0.0098 - accuracy: 0.0989 - val_loss: 0.0127 - val_mse: 0.0287 - val_accuracy: 0.0000e+00\n",
      "Epoch 2/20\n",
      "5/5 [==============================] - 0s 11ms/step - loss: 0.0044 - mse: 0.0099 - accuracy: 0.1003 - val_loss: 0.0127 - val_mse: 0.0288 - val_accuracy: 0.0000e+00\n",
      "Epoch 3/20\n",
      "5/5 [==============================] - 0s 12ms/step - loss: 0.0044 - mse: 0.0098 - accuracy: 0.1029 - val_loss: 0.0127 - val_mse: 0.0287 - val_accuracy: 0.0000e+00\n",
      "Epoch 4/20\n",
      "5/5 [==============================] - 0s 11ms/step - loss: 0.0042 - mse: 0.0095 - accuracy: 0.1148 - val_loss: 0.0127 - val_mse: 0.0288 - val_accuracy: 0.0000e+00\n",
      "Epoch 5/20\n",
      "5/5 [==============================] - 0s 10ms/step - loss: 0.0042 - mse: 0.0095 - accuracy: 0.1017 - val_loss: 0.0127 - val_mse: 0.0288 - val_accuracy: 0.0000e+00\n",
      "Epoch 6/20\n",
      "5/5 [==============================] - 0s 11ms/step - loss: 0.0042 - mse: 0.0094 - accuracy: 0.1038 - val_loss: 0.0127 - val_mse: 0.0288 - val_accuracy: 0.0000e+00\n",
      "Epoch 7/20\n",
      "5/5 [==============================] - 0s 11ms/step - loss: 0.0042 - mse: 0.0094 - accuracy: 0.1078 - val_loss: 0.0127 - val_mse: 0.0288 - val_accuracy: 0.0000e+00\n",
      "Epoch 8/20\n",
      "5/5 [==============================] - 0s 12ms/step - loss: 0.0041 - mse: 0.0092 - accuracy: 0.1118 - val_loss: 0.0127 - val_mse: 0.0288 - val_accuracy: 0.0000e+00\n",
      "Epoch 9/20\n",
      "5/5 [==============================] - 0s 17ms/step - loss: 0.0041 - mse: 0.0091 - accuracy: 0.1035 - val_loss: 0.0127 - val_mse: 0.0288 - val_accuracy: 0.0000e+00\n",
      "Epoch 10/20\n",
      "5/5 [==============================] - 0s 13ms/step - loss: 0.0041 - mse: 0.0091 - accuracy: 0.1064 - val_loss: 0.0127 - val_mse: 0.0288 - val_accuracy: 0.0000e+00\n",
      "Epoch 11/20\n",
      "5/5 [==============================] - 0s 11ms/step - loss: 0.0040 - mse: 0.0089 - accuracy: 0.1157 - val_loss: 0.0128 - val_mse: 0.0289 - val_accuracy: 0.0000e+00\n",
      "Epoch 12/20\n",
      "5/5 [==============================] - 0s 12ms/step - loss: 0.0039 - mse: 0.0088 - accuracy: 0.1126 - val_loss: 0.0128 - val_mse: 0.0290 - val_accuracy: 0.0000e+00\n",
      "Epoch 13/20\n",
      "5/5 [==============================] - 0s 11ms/step - loss: 0.0038 - mse: 0.0085 - accuracy: 0.1133 - val_loss: 0.0128 - val_mse: 0.0290 - val_accuracy: 0.0000e+00\n",
      "Epoch 14/20\n",
      "5/5 [==============================] - 0s 12ms/step - loss: 0.0040 - mse: 0.0089 - accuracy: 0.1157 - val_loss: 0.0129 - val_mse: 0.0292 - val_accuracy: 0.0000e+00\n",
      "Epoch 15/20\n",
      "5/5 [==============================] - 0s 12ms/step - loss: 0.0038 - mse: 0.0085 - accuracy: 0.1154 - val_loss: 0.0129 - val_mse: 0.0293 - val_accuracy: 0.0000e+00\n",
      "Epoch 16/20\n",
      "5/5 [==============================] - 0s 13ms/step - loss: 0.0038 - mse: 0.0085 - accuracy: 0.1082 - val_loss: 0.0130 - val_mse: 0.0294 - val_accuracy: 0.0000e+00\n",
      "Epoch 17/20\n",
      "5/5 [==============================] - 0s 14ms/step - loss: 0.0037 - mse: 0.0082 - accuracy: 0.1100 - val_loss: 0.0130 - val_mse: 0.0294 - val_accuracy: 0.0000e+00\n",
      "Epoch 18/20\n",
      "5/5 [==============================] - 0s 14ms/step - loss: 0.0037 - mse: 0.0083 - accuracy: 0.1109 - val_loss: 0.0130 - val_mse: 0.0294 - val_accuracy: 0.0000e+00\n",
      "Epoch 19/20\n",
      "5/5 [==============================] - 0s 15ms/step - loss: 0.0035 - mse: 0.0079 - accuracy: 0.1237 - val_loss: 0.0130 - val_mse: 0.0294 - val_accuracy: 0.0000e+00\n",
      "Epoch 20/20\n",
      "5/5 [==============================] - 0s 15ms/step - loss: 0.0036 - mse: 0.0080 - accuracy: 0.1236 - val_loss: 0.0130 - val_mse: 0.0294 - val_accuracy: 0.0000e+00\n"
     ]
    },
    {
     "data": {
      "text/plain": [
       "<tensorflow.python.keras.callbacks.History at 0x7f2ce034dca0>"
      ]
     },
     "execution_count": 27,
     "metadata": {},
     "output_type": "execute_result"
    }
   ],
   "source": [
    "model.fit(X_train_scaled, \n",
    "          X_train_scaled, \n",
    "          epochs = 20, \n",
    "          batch_size = 512, \n",
    "          validation_data = (X_test_scaled, X_test_scaled)\n",
    "         )"
   ]
  },
  {
   "cell_type": "code",
   "execution_count": null,
   "metadata": {},
   "outputs": [],
   "source": []
  }
 ],
 "metadata": {
  "kernelspec": {
   "display_name": "Python [conda env:root] *",
   "language": "python",
   "name": "conda-root-py"
  },
  "language_info": {
   "codemirror_mode": {
    "name": "ipython",
    "version": 3
   },
   "file_extension": ".py",
   "mimetype": "text/x-python",
   "name": "python",
   "nbconvert_exporter": "python",
   "pygments_lexer": "ipython3",
   "version": "3.8.5"
  }
 },
 "nbformat": 4,
 "nbformat_minor": 4
}
