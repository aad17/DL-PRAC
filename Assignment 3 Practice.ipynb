{
 "cells": [
  {
   "cell_type": "markdown",
   "metadata": {},
   "source": [
    "# CNN Practice"
   ]
  },
  {
   "cell_type": "markdown",
   "metadata": {},
   "source": [
    "### Import the libraries"
   ]
  },
  {
   "cell_type": "code",
   "execution_count": 1,
   "metadata": {},
   "outputs": [],
   "source": [
    "import tensorflow as tf\n",
    "from keras.preprocessing.image import ImageDataGenerator"
   ]
  },
  {
   "cell_type": "code",
   "execution_count": 2,
   "metadata": {},
   "outputs": [
    {
     "data": {
      "text/plain": [
       "'2.4.1'"
      ]
     },
     "execution_count": 2,
     "metadata": {},
     "output_type": "execute_result"
    }
   ],
   "source": [
    "tf.__version__"
   ]
  },
  {
   "cell_type": "markdown",
   "metadata": {},
   "source": [
    "## Data Preprocessing"
   ]
  },
  {
   "cell_type": "markdown",
   "metadata": {},
   "source": [
    "### Preprocessing the training set"
   ]
  },
  {
   "cell_type": "code",
   "execution_count": 3,
   "metadata": {},
   "outputs": [],
   "source": [
    "train_datagen = ImageDataGenerator(rescale = 1./255, shear_range = 0.2, zoom_range = 0.2, horizontal_flip = True)"
   ]
  },
  {
   "cell_type": "code",
   "execution_count": 4,
   "metadata": {},
   "outputs": [
    {
     "name": "stdout",
     "output_type": "stream",
     "text": [
      "Found 400 images belonging to 2 classes.\n"
     ]
    }
   ],
   "source": [
    "train_set = train_datagen.flow_from_directory('./Lab Assignment 3 Dataset/train', \n",
    "                                              target_size=(64, 64), \n",
    "                                              batch_size=64, \n",
    "                                              class_mode='binary')"
   ]
  },
  {
   "cell_type": "markdown",
   "metadata": {},
   "source": [
    "### Preprocessing the test set"
   ]
  },
  {
   "cell_type": "code",
   "execution_count": 5,
   "metadata": {},
   "outputs": [],
   "source": [
    "test_datagen = ImageDataGenerator(rescale = 1./255)"
   ]
  },
  {
   "cell_type": "code",
   "execution_count": 6,
   "metadata": {},
   "outputs": [
    {
     "name": "stdout",
     "output_type": "stream",
     "text": [
      "Found 100 images belonging to 2 classes.\n"
     ]
    }
   ],
   "source": [
    "test_set = test_datagen.flow_from_directory('./Lab Assignment 3 Dataset/test',\n",
    "                                            target_size=(64, 64), \n",
    "                                            batch_size=64, \n",
    "                                            class_mode='binary')"
   ]
  },
  {
   "cell_type": "markdown",
   "metadata": {},
   "source": [
    "### Understanding the data"
   ]
  },
  {
   "cell_type": "code",
   "execution_count": 7,
   "metadata": {},
   "outputs": [
    {
     "data": {
      "text/plain": [
       "(64, 64, 3)"
      ]
     },
     "execution_count": 7,
     "metadata": {},
     "output_type": "execute_result"
    }
   ],
   "source": [
    "train_set[0][0][0].shape"
   ]
  },
  {
   "cell_type": "markdown",
   "metadata": {},
   "source": [
    "## Build the CNN Model"
   ]
  },
  {
   "cell_type": "markdown",
   "metadata": {},
   "source": [
    "### Import necessary functions"
   ]
  },
  {
   "cell_type": "code",
   "execution_count": 8,
   "metadata": {},
   "outputs": [],
   "source": [
    "from tensorflow.keras.models import Sequential\n",
    "from tensorflow.keras.layers import Conv2D, MaxPool2D, Flatten, Dense"
   ]
  },
  {
   "cell_type": "markdown",
   "metadata": {},
   "source": [
    "### Initialise the Model"
   ]
  },
  {
   "cell_type": "code",
   "execution_count": 9,
   "metadata": {},
   "outputs": [],
   "source": [
    "model = Sequential()"
   ]
  },
  {
   "cell_type": "markdown",
   "metadata": {},
   "source": [
    "### First Convolution Layer"
   ]
  },
  {
   "cell_type": "code",
   "execution_count": 10,
   "metadata": {},
   "outputs": [],
   "source": [
    "model.add(Conv2D(filters=32, kernel_size=3, activation='relu', input_shape=[64, 64, 3]))"
   ]
  },
  {
   "cell_type": "markdown",
   "metadata": {},
   "source": [
    "### Pooling for Layer 1"
   ]
  },
  {
   "cell_type": "code",
   "execution_count": 11,
   "metadata": {},
   "outputs": [],
   "source": [
    "model.add(MaxPool2D(pool_size=2, strides=2))"
   ]
  },
  {
   "cell_type": "markdown",
   "metadata": {},
   "source": [
    "### Second Convolution Layer"
   ]
  },
  {
   "cell_type": "code",
   "execution_count": 12,
   "metadata": {},
   "outputs": [],
   "source": [
    "model.add(Conv2D(filters=32, kernel_size=3, activation='relu'))"
   ]
  },
  {
   "cell_type": "markdown",
   "metadata": {},
   "source": [
    "### Pooling for Layer 2"
   ]
  },
  {
   "cell_type": "code",
   "execution_count": 13,
   "metadata": {},
   "outputs": [],
   "source": [
    "model.add(MaxPool2D(pool_size=2, strides=2))"
   ]
  },
  {
   "cell_type": "markdown",
   "metadata": {},
   "source": [
    "### Flattening"
   ]
  },
  {
   "cell_type": "code",
   "execution_count": 14,
   "metadata": {},
   "outputs": [],
   "source": [
    "model.add(Flatten())"
   ]
  },
  {
   "cell_type": "markdown",
   "metadata": {},
   "source": [
    "### Full Connection"
   ]
  },
  {
   "cell_type": "code",
   "execution_count": 15,
   "metadata": {},
   "outputs": [],
   "source": [
    "model.add(Dense(units=128, activation='relu'))"
   ]
  },
  {
   "cell_type": "markdown",
   "metadata": {},
   "source": [
    "### Output Layer"
   ]
  },
  {
   "cell_type": "code",
   "execution_count": 16,
   "metadata": {},
   "outputs": [],
   "source": [
    "model.add(Dense(units=1, activation='sigmoid'))"
   ]
  },
  {
   "cell_type": "markdown",
   "metadata": {},
   "source": [
    "## Training the Model"
   ]
  },
  {
   "cell_type": "markdown",
   "metadata": {},
   "source": [
    "### Compile the model"
   ]
  },
  {
   "cell_type": "code",
   "execution_count": 17,
   "metadata": {},
   "outputs": [],
   "source": [
    "model.compile(optimizer='adam', loss='binary_crossentropy', metrics=['accuracy'])"
   ]
  },
  {
   "cell_type": "markdown",
   "metadata": {},
   "source": [
    "### Fit the data to the model"
   ]
  },
  {
   "cell_type": "code",
   "execution_count": 19,
   "metadata": {
    "scrolled": false
   },
   "outputs": [
    {
     "name": "stdout",
     "output_type": "stream",
     "text": [
      "Epoch 1/20\n",
      "7/7 [==============================] - 2s 217ms/step - loss: 0.2200 - accuracy: 0.9125 - val_loss: 0.4560 - val_accuracy: 0.8300\n",
      "Epoch 2/20\n",
      "7/7 [==============================] - 1s 179ms/step - loss: 0.2418 - accuracy: 0.8925 - val_loss: 0.5965 - val_accuracy: 0.7800\n",
      "Epoch 3/20\n",
      "7/7 [==============================] - 1s 203ms/step - loss: 0.2737 - accuracy: 0.8775 - val_loss: 0.2918 - val_accuracy: 0.8800\n",
      "Epoch 4/20\n",
      "7/7 [==============================] - 1s 201ms/step - loss: 0.2010 - accuracy: 0.9200 - val_loss: 0.2476 - val_accuracy: 0.9100\n",
      "Epoch 5/20\n",
      "7/7 [==============================] - 1s 201ms/step - loss: 0.1885 - accuracy: 0.9275 - val_loss: 0.3970 - val_accuracy: 0.8200\n",
      "Epoch 6/20\n",
      "7/7 [==============================] - 2s 279ms/step - loss: 0.2105 - accuracy: 0.9250 - val_loss: 0.3591 - val_accuracy: 0.8400\n",
      "Epoch 7/20\n",
      "7/7 [==============================] - 2s 225ms/step - loss: 0.1504 - accuracy: 0.9450 - val_loss: 0.3434 - val_accuracy: 0.8600\n",
      "Epoch 8/20\n",
      "7/7 [==============================] - 1s 201ms/step - loss: 0.1637 - accuracy: 0.9325 - val_loss: 0.3669 - val_accuracy: 0.8500\n",
      "Epoch 9/20\n",
      "7/7 [==============================] - 2s 265ms/step - loss: 0.1709 - accuracy: 0.9375 - val_loss: 0.3480 - val_accuracy: 0.8500\n",
      "Epoch 10/20\n",
      "7/7 [==============================] - 2s 274ms/step - loss: 0.2003 - accuracy: 0.9175 - val_loss: 0.2437 - val_accuracy: 0.8900\n",
      "Epoch 11/20\n",
      "7/7 [==============================] - 2s 242ms/step - loss: 0.1751 - accuracy: 0.9425 - val_loss: 0.2471 - val_accuracy: 0.9000\n",
      "Epoch 12/20\n",
      "7/7 [==============================] - 2s 234ms/step - loss: 0.1756 - accuracy: 0.9300 - val_loss: 0.3277 - val_accuracy: 0.8900\n",
      "Epoch 13/20\n",
      "7/7 [==============================] - 2s 231ms/step - loss: 0.1796 - accuracy: 0.9200 - val_loss: 0.3515 - val_accuracy: 0.8500\n",
      "Epoch 14/20\n",
      "7/7 [==============================] - 2s 233ms/step - loss: 0.1473 - accuracy: 0.9400 - val_loss: 0.4268 - val_accuracy: 0.8500\n",
      "Epoch 15/20\n",
      "7/7 [==============================] - 2s 228ms/step - loss: 0.1461 - accuracy: 0.9375 - val_loss: 0.2987 - val_accuracy: 0.8900\n",
      "Epoch 16/20\n",
      "7/7 [==============================] - 2s 254ms/step - loss: 0.1047 - accuracy: 0.9700 - val_loss: 0.2830 - val_accuracy: 0.8800\n",
      "Epoch 17/20\n",
      "7/7 [==============================] - 2s 247ms/step - loss: 0.1437 - accuracy: 0.9400 - val_loss: 0.4017 - val_accuracy: 0.8400\n",
      "Epoch 18/20\n",
      "7/7 [==============================] - 2s 241ms/step - loss: 0.1156 - accuracy: 0.9700 - val_loss: 0.5215 - val_accuracy: 0.8100\n",
      "Epoch 19/20\n",
      "7/7 [==============================] - 2s 254ms/step - loss: 0.1295 - accuracy: 0.9550 - val_loss: 0.2627 - val_accuracy: 0.8900\n",
      "Epoch 20/20\n",
      "7/7 [==============================] - 1s 207ms/step - loss: 0.1321 - accuracy: 0.9475 - val_loss: 0.2158 - val_accuracy: 0.9300\n"
     ]
    },
    {
     "data": {
      "text/plain": [
       "<tensorflow.python.keras.callbacks.History at 0x7f7f4cd04dc0>"
      ]
     },
     "execution_count": 19,
     "metadata": {},
     "output_type": "execute_result"
    }
   ],
   "source": [
    "model.fit(x = train_set, validation_data = test_set, epochs = 20)"
   ]
  },
  {
   "cell_type": "code",
   "execution_count": null,
   "metadata": {},
   "outputs": [],
   "source": []
  }
 ],
 "metadata": {
  "kernelspec": {
   "display_name": "Python [conda env:root] *",
   "language": "python",
   "name": "conda-root-py"
  },
  "language_info": {
   "codemirror_mode": {
    "name": "ipython",
    "version": 3
   },
   "file_extension": ".py",
   "mimetype": "text/x-python",
   "name": "python",
   "nbconvert_exporter": "python",
   "pygments_lexer": "ipython3",
   "version": "3.8.5"
  }
 },
 "nbformat": 4,
 "nbformat_minor": 4
}
